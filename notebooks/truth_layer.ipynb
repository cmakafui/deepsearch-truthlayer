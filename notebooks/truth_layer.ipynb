{
 "cells": [
  {
   "cell_type": "markdown",
   "id": "00c133df-6c01-41ac-a9bf-aacdcc58fee7",
   "metadata": {},
   "source": [
    "## The Truth Layer: Validating AI-Generated Research\n",
    "\n",
    "This notebook demonstrates a system for validating AI-generated research reports by\n",
    "checking whether the claims made in the report are supported by the sources it cites.\n"
   ]
  },
  {
   "cell_type": "code",
   "execution_count": 1,
   "id": "057c9479-0090-4813-b36f-a41e63c8e545",
   "metadata": {},
   "outputs": [],
   "source": [
    "# Install required packages\n",
    "# !pip install -q python-dotenv instructor openai firecrawl-py anthropic pandas rich tqdm pydantic matplotlib\n"
   ]
  },
  {
   "cell_type": "code",
   "execution_count": 2,
   "id": "a94226bb-c2be-4870-97f4-38a1c378b1db",
   "metadata": {},
   "outputs": [],
   "source": [
    "# %%\n",
    "# Import necessary libraries\n",
    "import os\n",
    "import json\n",
    "from typing import Optional, Literal, Any\n",
    "from datetime import datetime\n",
    "import time\n",
    "import re\n",
    "import uuid\n",
    "import warnings\n",
    "from urllib.parse import quote\n",
    "\n",
    "import pandas as pd\n",
    "import numpy as np\n",
    "import matplotlib.pyplot as plt\n",
    "import seaborn as sns\n",
    "from matplotlib.colors import LinearSegmentedColormap\n",
    "from dotenv import load_dotenv\n",
    "import instructor\n",
    "from openai import OpenAI\n",
    "from firecrawl import FirecrawlApp\n",
    "from rich.console import Console\n",
    "from rich.panel import Panel\n",
    "from pydantic import BaseModel, Field\n",
    "\n",
    "import tqdm\n",
    "\n",
    "# Suppress warning messages\n",
    "warnings.filterwarnings(\"ignore\")"
   ]
  },
  {
   "cell_type": "code",
   "execution_count": 3,
   "id": "2b790eae-e64f-4d64-9912-d4f1d19cd5ea",
   "metadata": {},
   "outputs": [],
   "source": [
    "# Configure visualization styles\n",
    "plt.style.use(\"fivethirtyeight\")\n",
    "sns.set_palette(\"viridis\")"
   ]
  },
  {
   "cell_type": "code",
   "execution_count": 4,
   "id": "d14e6f71-bea4-42c1-92fb-f1f018bd19b9",
   "metadata": {},
   "outputs": [
    {
     "data": {
      "text/plain": [
       "True"
      ]
     },
     "execution_count": 4,
     "metadata": {},
     "output_type": "execute_result"
    }
   ],
   "source": [
    "# Set up rich console for pretty printing\n",
    "console = Console()\n",
    "\n",
    "# %%\n",
    "# Load environment variables\n",
    "load_dotenv()"
   ]
  },
  {
   "cell_type": "code",
   "execution_count": 5,
   "id": "03af38ff-f4aa-4a87-a3a9-26b918b5b286",
   "metadata": {},
   "outputs": [],
   "source": [
    "# Set up API clients\n",
    "openai_client = instructor.from_openai(OpenAI())\n",
    "default_client = openai_client"
   ]
  },
  {
   "cell_type": "code",
   "execution_count": 6,
   "id": "220f9d06-6876-4c6b-9791-6a93be687972",
   "metadata": {},
   "outputs": [],
   "source": [
    "default_model = \"o3-mini\""
   ]
  },
  {
   "cell_type": "code",
   "execution_count": 7,
   "id": "bdfba3f5-9eb8-4a8d-9c49-797d8be4de9a",
   "metadata": {},
   "outputs": [],
   "source": [
    "# Initialize Firecrawl SDK with API key\n",
    "firecrawl_api_key = os.environ[\"FIRECRAWL_API_KEY\"]\n",
    "firecrawl_app = FirecrawlApp(api_key=firecrawl_api_key)"
   ]
  },
  {
   "cell_type": "markdown",
   "id": "683b4f5f-b4b6-49d0-84de-b87af5605661",
   "metadata": {},
   "source": [
    "\n",
    "### 1. Data Models\n",
    "\n",
    "First, we'll define our data models using Pydantic, which will be used with the Instructor library for structured LLM outputs.\n",
    "\n",
    "Define Pydantic models for structured data"
   ]
  },
  {
   "cell_type": "code",
   "execution_count": 8,
   "id": "1e362b6b-ff9e-471f-9162-e05f08a18219",
   "metadata": {},
   "outputs": [],
   "source": [
    "class Source(BaseModel):\n",
    "    \"\"\"A source referenced in a research report\"\"\"\n",
    "\n",
    "    id: str = Field(description=\"Unique identifier for the source\")\n",
    "    url: str = Field(description=\"URL of the source\")\n",
    "    title: Optional[str] = Field(None, description=\"Title of the source\")\n",
    "    content: Optional[str] = Field(None, description=\"The source content\")\n",
    "\n",
    "\n",
    "class Claim(BaseModel):\n",
    "    \"\"\"A claim made in a research report that needs verification\"\"\"\n",
    "\n",
    "    id: str = Field(description=\"Unique identifier for the claim\")\n",
    "    statement: str = Field(description=\"The claim as stated in the report\")\n",
    "    verification_question: str = Field(\n",
    "        description=\"The claim rewritten as a verification question\"\n",
    "    )\n",
    "    source_urls: list[str] = Field(description=\"URLs of sources this claim references\")\n",
    "    source_ids: list[str] = Field(\n",
    "        default_factory=list, description=\"Source IDs (populated in post-processing)\"\n",
    "    )\n",
    "\n",
    "\n",
    "class ValidationResult(BaseModel):\n",
    "    \"\"\"The validation result for a claim\"\"\"\n",
    "\n",
    "    claim_id: str = Field(description=\"ID of the claim\")\n",
    "    statement: str = Field(description=\"The original claim statement\")\n",
    "    verification_question: str = Field(description=\"The verification question\")\n",
    "    status: Literal[\n",
    "        \"SUPPORTED\", \"PARTIALLY_SUPPORTED\", \"CONTRADICTED\", \"UNVERIFIABLE\"\n",
    "    ] = Field(description=\"Validation status\")\n",
    "    confidence: float = Field(description=\"Confidence score (0.0-1.0)\")\n",
    "    reasoning: str = Field(description=\"Explanation of the validation\")\n",
    "    has_contradictions: bool = Field(\n",
    "        False, description=\"Whether sources contradict each other\"\n",
    "    )\n",
    "\n",
    "\n",
    "class ExtractedReport(BaseModel):\n",
    "    \"\"\"The extracted claims and sources from a report\"\"\"\n",
    "\n",
    "    claims: list[Claim] = Field(description=\"List of extracted claims\")\n",
    "    sources: list[Source] = Field(description=\"List of extracted sources\")\n",
    "\n",
    "\n",
    "class TrustReport(BaseModel):\n",
    "    \"\"\"Final trust report for a validated document\"\"\"\n",
    "\n",
    "    id: str = Field(description=\"Report ID\")\n",
    "    timestamp: str = Field(description=\"When the validation was performed\")\n",
    "    trust_score: float = Field(description=\"Overall trust score (0-100)\")\n",
    "    claim_count: int = Field(description=\"Total number of claims\")\n",
    "    results: dict[str, int] = Field(description=\"Counts by validation status\")\n",
    "    has_contradictions: bool = Field(\n",
    "        False, description=\"Whether any sources contradict each other\"\n",
    "    )"
   ]
  },
  {
   "cell_type": "markdown",
   "id": "3c0f8c94-3e48-44f5-8104-21a6b059f0ef",
   "metadata": {},
   "source": [
    "### 2. Extract Claims and Sources from Report\n",
    "The first step is to extract claims and their associated sources from an AI-generated research report. \n",
    "We'll use Instructor to get structured output from an LLM.\n"
   ]
  },
  {
   "cell_type": "code",
   "execution_count": 9,
   "id": "d61e5ad6-1df7-4dcc-8242-a07280c68542",
   "metadata": {},
   "outputs": [],
   "source": [
    "def extract_claims_and_sources(report_text: str) -> ExtractedReport:\n",
    "    \"\"\"Extract claims and their source URLs from a report\"\"\"\n",
    "    console.print(\"[blue]Extracting claims and sources...[/blue]\")\n",
    "\n",
    "    # Generate unique IDs for this report\n",
    "    report_id = str(uuid.uuid4())[:8]\n",
    "\n",
    "    # Extract with LLM\n",
    "    result = openai_client.chat.completions.create(\n",
    "        model=default_model,\n",
    "        response_model=ExtractedReport,\n",
    "        messages=[\n",
    "            {\n",
    "                \"role\": \"system\",\n",
    "                \"content\": \"\"\"Extract verifiable claims and their associated sources from this research report.\n",
    "             \n",
    "             For each claim:\n",
    "             1. Extract the exact statement from the text\n",
    "             2. Create a verification question that precisely addresses what needs to be verified\n",
    "             3. Identify which URLs from the sources are referenced by this claim\n",
    "             \n",
    "             Extract all sources (URLs) referenced in the document.\n",
    "             \n",
    "             Only include factual claims that can be objectively verified.\n",
    "             Focus on claims with explicit source references.\"\"\",\n",
    "            },\n",
    "            {\"role\": \"user\", \"content\": report_text},\n",
    "        ],\n",
    "    )\n",
    "\n",
    "    # Assign IDs to claims and sources\n",
    "    for i, source in enumerate(result.sources):\n",
    "        source.id = f\"source-{report_id}-{i}\"\n",
    "\n",
    "    for i, claim in enumerate(result.claims):\n",
    "        claim.id = f\"claim-{report_id}-{i}\"\n",
    "\n",
    "    # Link claims to source IDs\n",
    "    url_to_source_id = {source.url: source.id for source in result.sources}\n",
    "\n",
    "    for claim in result.claims:\n",
    "        claim.source_ids = [\n",
    "            url_to_source_id.get(url)\n",
    "            for url in claim.source_urls\n",
    "            if url in url_to_source_id\n",
    "        ]\n",
    "        # Filter out None values\n",
    "        claim.source_ids = [\n",
    "            source_id for source_id in claim.source_ids if source_id is not None\n",
    "        ]\n",
    "\n",
    "    console.print(\n",
    "        f\"[green]Extracted {len(result.claims)} claims and {len(result.sources)} sources[/green]\"\n",
    "    )\n",
    "    return result"
   ]
  },
  {
   "cell_type": "markdown",
   "id": "add9f182-7c42-408d-abd7-947e88aca432",
   "metadata": {},
   "source": [
    "### 3. Fetch Source Content\n",
    "Next, we need to fetch the content of each cited source. We'll use the Firecrawl SDK to convert web pages into markdown content optimized for LLM processing.\n"
   ]
  },
  {
   "cell_type": "code",
   "execution_count": 10,
   "id": "d7cde2c8-f2d9-411d-a56e-7756e8dfe66a",
   "metadata": {},
   "outputs": [],
   "source": [
    "def fetch_sources(sources: list[Source]) -> list[Source]:\n",
    "    \"\"\"Fetch content for all sources using Firecrawl\"\"\"\n",
    "    console.print(\"[blue]Fetching source content...[/blue]\")\n",
    "\n",
    "    if not firecrawl_app:\n",
    "        console.print(\n",
    "            \"[red]Firecrawl API not configured. Cannot fetch source content.[/red]\"\n",
    "        )\n",
    "        return sources\n",
    "\n",
    "    for i, source in enumerate(sources):\n",
    "        console.print(f\"Fetching source {i + 1}/{len(sources)}: {source.url}\")\n",
    "        try:\n",
    "            # Use Firecrawl to get markdown\n",
    "            result = firecrawl_app.scrape_url(\n",
    "                source.url, params={\"formats\": [\"markdown\"]}\n",
    "            )\n",
    "\n",
    "            if result and \"markdown\" in result:\n",
    "                source.content = result[\"markdown\"]\n",
    "            else:\n",
    "                source.content = f\"Error fetching content from {source.url}\"\n",
    "        except Exception as e:\n",
    "            source.content = f\"Error: {str(e)}\"\n",
    "\n",
    "    console.print(\"[green]Finished fetching source content[/green]\")\n",
    "    return sources"
   ]
  },
  {
   "cell_type": "markdown",
   "id": "2a4623e1-19ed-49dc-b634-f0dd35d669e9",
   "metadata": {},
   "source": [
    "### 4. Validate Claims Against Sources\n",
    "Now we'll validate each claim against its associated sources using an LLM with structured output.\n"
   ]
  },
  {
   "cell_type": "code",
   "execution_count": 11,
   "id": "e3ea602f-1d7c-4e9f-b1cf-9c807c2842b0",
   "metadata": {},
   "outputs": [],
   "source": [
    "def validate_claim(claim: Claim, sources: list[Source]) -> ValidationResult:\n",
    "    \"\"\"Validate a claim against its sources in a single LLM call\"\"\"\n",
    "    # Get sources for this claim\n",
    "    claim_sources = [s for s in sources if s.id in claim.source_ids]\n",
    "\n",
    "    # If no sources, return unverifiable\n",
    "    if not claim_sources:\n",
    "        return ValidationResult(\n",
    "            claim_id=claim.id,\n",
    "            statement=claim.statement,\n",
    "            verification_question=claim.verification_question,\n",
    "            status=\"UNVERIFIABLE\",\n",
    "            confidence=0.0,\n",
    "            reasoning=\"No sources available for this claim\",\n",
    "            has_contradictions=False,\n",
    "        )\n",
    "\n",
    "    # Prepare sources text\n",
    "    sources_text = \"\\n\\n\".join(\n",
    "        [f\"SOURCE [{s.id}] {s.url}:\\n{s.content}\" for s in claim_sources]\n",
    "    )\n",
    "\n",
    "    # Validate with LLM\n",
    "    result = openai_client.chat.completions.create(\n",
    "        model=default_model,\n",
    "        response_model=ValidationResult,\n",
    "        messages=[\n",
    "            {\n",
    "                \"role\": \"system\",\n",
    "                \"content\": \"\"\"Assess whether this claim is supported by its cited sources.\n",
    "             \n",
    "             Only use information from the provided sources. Do not use general knowledge.\n",
    "             \n",
    "             Possible statuses:\n",
    "             - SUPPORTED: The claim is directly supported by the sources\n",
    "             - PARTIALLY_SUPPORTED: The claim is supported with some caveats\n",
    "             - CONTRADICTED: The sources contradict the claim\n",
    "             - UNVERIFIABLE: Not enough information in the sources\n",
    "             \n",
    "             If sources contradict each other, note this in your reasoning and set has_contradictions to true.\"\"\",\n",
    "            },\n",
    "            {\n",
    "                \"role\": \"user\",\n",
    "                \"content\": f\"\"\"CLAIM: {claim.statement}\n",
    "             \n",
    "             VERIFICATION QUESTION: {claim.verification_question}\n",
    "             \n",
    "             SOURCES:\n",
    "             {sources_text}\n",
    "             \n",
    "             Analyze whether this claim is supported by these sources.\"\"\",\n",
    "            },\n",
    "        ],\n",
    "    )\n",
    "\n",
    "    # Fill in claim details\n",
    "    result.claim_id = claim.id\n",
    "    result.statement = claim.statement\n",
    "    result.verification_question = claim.verification_question\n",
    "\n",
    "    return result\n",
    "\n",
    "\n",
    "# %%\n",
    "def validate_all_claims(\n",
    "    claims: list[Claim], sources: list[Source]\n",
    ") -> list[ValidationResult]:\n",
    "    \"\"\"Validate all claims against their sources\"\"\"\n",
    "    console.print(\"[blue]Validating claims...[/blue]\")\n",
    "\n",
    "    results = []\n",
    "    for i, claim in enumerate(claims):\n",
    "        console.print(\n",
    "            f\"Validating claim {i + 1}/{len(claims)}: {claim.statement[:50]}...\"\n",
    "        )\n",
    "        result = validate_claim(claim, sources)\n",
    "        results.append(result)\n",
    "\n",
    "    console.print(f\"[green]Validated {len(results)} claims[/green]\")\n",
    "    return results"
   ]
  },
  {
   "cell_type": "markdown",
   "id": "f6a94380-ea1a-49c4-97a1-8e54b7e1a121",
   "metadata": {},
   "source": [
    "### 5. Calculate Trust Score and Generate Report\n",
    "Finally, we'll calculate an overall trust score for the report and generate a summary of the validation results.\n"
   ]
  },
  {
   "cell_type": "code",
   "execution_count": 12,
   "id": "b14960cb-7fb3-41aa-af0e-dc3dd5f9abfe",
   "metadata": {},
   "outputs": [],
   "source": [
    "def calculate_trust_score(validation_results: list[ValidationResult]) -> float:\n",
    "    \"\"\"Calculate the overall trust score based on validation results\"\"\"\n",
    "    if not validation_results:\n",
    "        return 0.0\n",
    "\n",
    "    # Define weights for each status\n",
    "    weights = {\n",
    "        \"SUPPORTED\": 1.0,\n",
    "        \"PARTIALLY_SUPPORTED\": 0.5,\n",
    "        \"CONTRADICTED\": 0.0,\n",
    "        \"UNVERIFIABLE\": 0.0,\n",
    "    }\n",
    "\n",
    "    # Calculate weighted sum\n",
    "    weighted_sum = sum(\n",
    "        weights[result.status] * result.confidence for result in validation_results\n",
    "    )\n",
    "\n",
    "    # Calculate average and scale to 0-100\n",
    "    trust_score = (weighted_sum / len(validation_results)) * 100\n",
    "\n",
    "    # Apply a penalty for contradictions\n",
    "    contradictions = sum(1 for r in validation_results if r.has_contradictions)\n",
    "    if contradictions > 0:\n",
    "        contradiction_penalty = min(20, contradictions * 5)  # Cap penalty at 20%\n",
    "        trust_score = max(0, trust_score - contradiction_penalty)\n",
    "\n",
    "    return round(trust_score, 1)\n",
    "\n",
    "\n",
    "# %%\n",
    "def generate_trust_report(validation_results: list[ValidationResult]) -> TrustReport:\n",
    "    \"\"\"Generate a trust report from validation results\"\"\"\n",
    "    # Count results by status\n",
    "    status_counts = {\n",
    "        \"SUPPORTED\": 0,\n",
    "        \"PARTIALLY_SUPPORTED\": 0,\n",
    "        \"CONTRADICTED\": 0,\n",
    "        \"UNVERIFIABLE\": 0,\n",
    "    }\n",
    "\n",
    "    for result in validation_results:\n",
    "        status_counts[result.status] += 1\n",
    "\n",
    "    # Check if any sources contradict each other\n",
    "    has_contradictions = any(r.has_contradictions for r in validation_results)\n",
    "\n",
    "    # Calculate trust score\n",
    "    trust_score = calculate_trust_score(validation_results)\n",
    "\n",
    "    return TrustReport(\n",
    "        id=str(uuid.uuid4())[:8],\n",
    "        timestamp=datetime.now().isoformat(),\n",
    "        trust_score=trust_score,\n",
    "        claim_count=len(validation_results),\n",
    "        results=status_counts,\n",
    "        has_contradictions=has_contradictions,\n",
    "    )"
   ]
  },
  {
   "cell_type": "markdown",
   "id": "bd485afa-c2b8-405a-8877-337884b6a921",
   "metadata": {},
   "source": [
    "# ## 6. Visualization Functions\n",
    "These functions create elegant visualizations of our validation results.\n"
   ]
  },
  {
   "cell_type": "code",
   "execution_count": 23,
   "id": "c28f5e3c-0f89-4063-a1b3-fb8e091d4a84",
   "metadata": {},
   "outputs": [],
   "source": [
    "def plot_trust_gauge(trust_score: float):\n",
    "    \"\"\"Create a gauge visualization of the trust score\"\"\"\n",
    "    fig, ax = plt.subplots(figsize=(10, 6), subplot_kw={\"projection\": \"polar\"})\n",
    "\n",
    "    # Convert trust score to radians (0-100 to 0-π)\n",
    "    angle = np.pi * (trust_score / 100)\n",
    "\n",
    "    # Create the gauge\n",
    "    theta = np.linspace(0, np.pi, 100)\n",
    "\n",
    "    # Create color gradients\n",
    "    low_trust = LinearSegmentedColormap.from_list(\"low_trust\", [\"#FF0000\", \"#FFAA00\"])\n",
    "    mid_trust = LinearSegmentedColormap.from_list(\"mid_trust\", [\"#FFAA00\", \"#AAFF00\"])\n",
    "    high_trust = LinearSegmentedColormap.from_list(\"high_trust\", [\"#AAFF00\", \"#00FF00\"])\n",
    "\n",
    "    # Plot the gauge background\n",
    "    ax.fill_between(theta, 0.7, 0.9, color=\"#EEEEEE\", alpha=0.8)\n",
    "\n",
    "    # Plot the colored sections\n",
    "    ax.fill_between(\n",
    "        theta[0:33], 0.7, 0.9, color=low_trust(np.linspace(0, 1, 33)), alpha=0.8\n",
    "    )\n",
    "    ax.fill_between(\n",
    "        theta[33:66], 0.7, 0.9, color=mid_trust(np.linspace(0, 1, 33)), alpha=0.8\n",
    "    )\n",
    "    ax.fill_between(\n",
    "        theta[66:100], 0.7, 0.9, color=high_trust(np.linspace(0, 1, 34)), alpha=0.8\n",
    "    )\n",
    "\n",
    "    # Plot the needle\n",
    "    ax.plot([0, angle], [0, 0.8], color=\"black\", linewidth=3)\n",
    "    ax.scatter(0, 0, color=\"black\", s=100)\n",
    "\n",
    "    # Add score text\n",
    "    ax.text(\n",
    "        np.pi / 2,\n",
    "        0.4,\n",
    "        f\"{trust_score:.1f}%\",\n",
    "        fontsize=24,\n",
    "        fontweight=\"bold\",\n",
    "        ha=\"center\",\n",
    "        va=\"center\",\n",
    "    )\n",
    "    ax.text(np.pi / 2, 0.2, \"Trust Score\", fontsize=16, ha=\"center\", va=\"center\")\n",
    "\n",
    "    # Add labels\n",
    "    ax.text(0, 1.0, \"0%\", fontsize=12, ha=\"left\", va=\"center\")\n",
    "    ax.text(np.pi / 2, 1.0, \"50%\", fontsize=12, ha=\"center\", va=\"center\")\n",
    "    ax.text(np.pi, 1.0, \"100%\", fontsize=12, ha=\"right\", va=\"center\")\n",
    "\n",
    "    # Customize ticks and grid\n",
    "    ax.set_xticks([])\n",
    "    ax.set_yticks([])\n",
    "    ax.spines[\"polar\"].set_visible(False)\n",
    "\n",
    "    plt.tight_layout()\n",
    "    plt.show()\n",
    "\n",
    "\n",
    "# %%\n",
    "def plot_claim_distribution(trust_report: TrustReport):\n",
    "    \"\"\"Create a pie chart of claim validation statuses\"\"\"\n",
    "    labels = []\n",
    "    sizes = []\n",
    "    colors = {\n",
    "        \"SUPPORTED\": \"#00CC00\",\n",
    "        \"PARTIALLY_SUPPORTED\": \"#CCCC00\",\n",
    "        \"CONTRADICTED\": \"#CC0000\",\n",
    "        \"UNVERIFIABLE\": \"#CCCCCC\",\n",
    "    }\n",
    "    color_list = []\n",
    "\n",
    "    for status, count in trust_report.results.items():\n",
    "        if count > 0:\n",
    "            labels.append(status)\n",
    "            sizes.append(count)\n",
    "            color_list.append(colors[status])\n",
    "\n",
    "    fig, ax = plt.subplots(figsize=(10, 8))\n",
    "\n",
    "    # Create pie chart\n",
    "    wedges, texts, autotexts = ax.pie(\n",
    "        sizes,\n",
    "        labels=None,\n",
    "        colors=color_list,\n",
    "        autopct=\"%1.1f%%\",\n",
    "        startangle=90,\n",
    "        wedgeprops={\"edgecolor\": \"w\", \"linewidth\": 2},\n",
    "    )\n",
    "\n",
    "    # Customize text\n",
    "    for autotext in autotexts:\n",
    "        autotext.set_fontsize(12)\n",
    "        autotext.set_weight(\"bold\")\n",
    "        autotext.set_color(\"white\")\n",
    "\n",
    "    # Add legend\n",
    "    ax.legend(\n",
    "        wedges,\n",
    "        [f\"{label} ({size})\" for label, size in zip(labels, sizes)],\n",
    "        title=\"Validation Status\",\n",
    "        loc=\"center left\",\n",
    "        bbox_to_anchor=(1, 0, 0.5, 1),\n",
    "    )\n",
    "\n",
    "    plt.title(\"Claim Validation Results\", fontsize=16, fontweight=\"bold\", pad=20)\n",
    "    ax.set_aspect(\"equal\")\n",
    "\n",
    "    plt.tight_layout()\n",
    "    plt.show()\n",
    "\n",
    "\n",
    "# %%\n",
    "def plot_confidence_per_claim(validation_results: list[ValidationResult]):\n",
    "    \"\"\"Create a bar chart of confidence scores for each claim\"\"\"\n",
    "    # Prepare data\n",
    "    claims = [f\"Claim {i + 1}\" for i in range(len(validation_results))]\n",
    "    confidences = [r.confidence for r in validation_results]\n",
    "    statuses = [r.status for r in validation_results]\n",
    "\n",
    "    # Define colors for each status\n",
    "    colors = {\n",
    "        \"SUPPORTED\": \"#00CC00\",\n",
    "        \"PARTIALLY_SUPPORTED\": \"#CCCC00\",\n",
    "        \"CONTRADICTED\": \"#CC0000\",\n",
    "        \"UNVERIFIABLE\": \"#CCCCCC\",\n",
    "    }\n",
    "\n",
    "    # Create colormap\n",
    "    bar_colors = [colors[status] for status in statuses]\n",
    "\n",
    "    # Create plot\n",
    "    fig, ax = plt.subplots(figsize=(12, 6))\n",
    "\n",
    "    # Plot bars\n",
    "    bars = ax.bar(claims, confidences, color=bar_colors, alpha=0.7)\n",
    "\n",
    "    # Add labels on top of bars\n",
    "    for bar in bars:\n",
    "        height = bar.get_height()\n",
    "        ax.text(\n",
    "            bar.get_x() + bar.get_width() / 2.0,\n",
    "            height + 0.02,\n",
    "            f\"{height:.2f}\",\n",
    "            ha=\"center\",\n",
    "            va=\"bottom\",\n",
    "            fontsize=10,\n",
    "        )\n",
    "\n",
    "    # Customize plot\n",
    "    ax.set_ylim(0, 1.1)\n",
    "    ax.set_ylabel(\"Confidence Score\", fontsize=12)\n",
    "    ax.set_xlabel(\"Claims\", fontsize=12)\n",
    "    ax.set_title(\"Confidence Score per Claim\", fontsize=16, fontweight=\"bold\", pad=20)\n",
    "\n",
    "    # Add legend\n",
    "    from matplotlib.patches import Patch\n",
    "\n",
    "    legend_elements = [\n",
    "        Patch(facecolor=colors[status], label=status)\n",
    "        for status in colors.keys()\n",
    "        if status in statuses\n",
    "    ]\n",
    "    ax.legend(handles=legend_elements, loc=\"upper right\")\n",
    "\n",
    "    # Add grid\n",
    "    ax.grid(axis=\"y\", linestyle=\"--\", alpha=0.7)\n",
    "\n",
    "    plt.tight_layout()\n",
    "    plt.show()\n",
    "\n",
    "\n",
    "# %%\n",
    "def display_validation_results(\n",
    "    trust_report: TrustReport,\n",
    "    validation_results: list[ValidationResult],\n",
    "    extracted: ExtractedReport,\n",
    "):\n",
    "    \"\"\"Display comprehensive results with visualizations\"\"\"\n",
    "    console.print(\n",
    "        Panel.fit(\n",
    "            f\"[bold]Trust Score:[/bold] {trust_report.trust_score}/100\\n\"\n",
    "            f\"[bold]Claims Analyzed:[/bold] {trust_report.claim_count}\\n\"\n",
    "            f\"[bold]Supported:[/bold] {trust_report.results['SUPPORTED']} \"\n",
    "            f\"({trust_report.results['SUPPORTED'] / trust_report.claim_count * 100:.1f}%)\\n\"\n",
    "            f\"[bold]Partially Supported:[/bold] {trust_report.results['PARTIALLY_SUPPORTED']} \"\n",
    "            f\"({trust_report.results['PARTIALLY_SUPPORTED'] / trust_report.claim_count * 100:.1f}%)\\n\"\n",
    "            f\"[bold]Contradicted:[/bold] {trust_report.results['CONTRADICTED']} \"\n",
    "            f\"({trust_report.results['CONTRADICTED'] / trust_report.claim_count * 100:.1f}%)\\n\"\n",
    "            f\"[bold]Unverifiable:[/bold] {trust_report.results['UNVERIFIABLE']} \"\n",
    "            f\"({trust_report.results['UNVERIFIABLE'] / trust_report.claim_count * 100:.1f}%)\\n\"\n",
    "            f\"[bold]Source Contradictions:[/bold] {'Yes' if trust_report.has_contradictions else 'No'}\",\n",
    "            title=f\"Truth Layer Report: {trust_report.id}\",\n",
    "            border_style=\"blue\",\n",
    "        )\n",
    "    )\n",
    "\n",
    "    # Visualize results\n",
    "    plot_trust_gauge(trust_report.trust_score)\n",
    "    plot_claim_distribution(trust_report)\n",
    "    plot_confidence_per_claim(validation_results)\n",
    "\n",
    "    # Create a lookup dictionary for claim_id -> source_ids length\n",
    "    claim_id_to_source_count = {\n",
    "        claim.id: len(claim.source_ids) for claim in extracted.claims\n",
    "    }\n",
    "\n",
    "    # Display detailed results in a DataFrame\n",
    "    results_df = pd.DataFrame(\n",
    "        [\n",
    "            {\n",
    "                \"Claim\": r.statement[:80] + \"...\"\n",
    "                if len(r.statement) > 80\n",
    "                else r.statement,\n",
    "                \"Status\": r.status,\n",
    "                \"Confidence\": r.confidence,\n",
    "                \"Source Count\": claim_id_to_source_count.get(\n",
    "                    r.claim_id, 0\n",
    "                ),  # Corrected source count\n",
    "                \"Contradictions\": \"Yes\" if r.has_contradictions else \"No\",\n",
    "            }\n",
    "            for r in validation_results\n",
    "        ]\n",
    "    )\n",
    "\n",
    "    return results_df"
   ]
  },
  {
   "cell_type": "markdown",
   "id": "902ec809-f99d-49c8-8628-b008a9dfd7fe",
   "metadata": {},
   "source": [
    "### 7. End-to-End Validation Pipeline\n",
    "Now, let's combine all the pieces into an end-to-end validation pipeline.\n"
   ]
  },
  {
   "cell_type": "code",
   "execution_count": 24,
   "id": "4a76b09e-17ea-426c-87c0-f43375bc9841",
   "metadata": {},
   "outputs": [],
   "source": [
    "def validate_report(\n",
    "    report_text: str,\n",
    ") -> tuple[TrustReport, list[ValidationResult], ExtractedReport]:\n",
    "    \"\"\"Run the complete validation pipeline on a research report\"\"\"\n",
    "    # Step 1: Extract claims and sources\n",
    "    extracted = extract_claims_and_sources(report_text)\n",
    "\n",
    "    # Step 2: Fetch source content\n",
    "    sources_with_content = fetch_sources(extracted.sources)\n",
    "\n",
    "    # Step 3: Validate each claim against its sources\n",
    "    validation_results = validate_all_claims(extracted.claims, sources_with_content)\n",
    "\n",
    "    # Step 4: Generate trust report\n",
    "    trust_report = generate_trust_report(validation_results)\n",
    "\n",
    "    return trust_report, validation_results, extracted"
   ]
  },
  {
   "cell_type": "code",
   "execution_count": 15,
   "id": "b4fa99fd-d641-4f13-9cdb-420aa022925b",
   "metadata": {},
   "outputs": [],
   "source": [
    "sample_report = \"\"\"\n",
    "\n",
    "**A Very Short History of Abraham Lincoln**\n",
    "\n",
    "Abraham Lincoln was born on February 12, 1809, in a log cabin in Kentucky. He was largely self-educated and worked as a lawyer before entering politics in Illinois. His election as the 16th President of the United States in 1860 led to the secession of Southern states and the start of the Civil War[^1][^3].\n",
    "\n",
    "As president, Lincoln focused on preserving the Union. In 1863, he issued the Emancipation Proclamation, declaring freedom for enslaved people in Confederate-held territories and reframing the war around the abolition of slavery[^3][^5]. That same year, he delivered the Gettysburg Address, a defining speech in American history.\n",
    "\n",
    "Lincoln was re-elected in 1864 and oversaw the Union’s victory in April 1865. Just days later, on April 14, he was assassinated by John Wilkes Booth. His leadership during the Civil War and his moral vision for the nation cemented his legacy as one of America’s greatest presidents[^3][^4][^6].\n",
    "\n",
    "---\n",
    "\n",
    "**Sources**\n",
    "\n",
    "[^1]: https://en.wikipedia.org/wiki/Abraham_Lincoln  \n",
    "[^3]: https://millercenter.org/president/lincoln/life-in-brief  \n",
    "[^4]: https://en.wikipedia.org/wiki/Abraham_Lincoln  \n",
    "[^5]: https://www.battlefields.org/learn/biographies/abraham-lincoln  \n",
    "[^6]: https://kids.nationalgeographic.com/history/article/abraham-lincoln  \n",
    "\n",
    "\"\"\""
   ]
  },
  {
   "cell_type": "code",
   "execution_count": 16,
   "id": "c4ca8ce8-deb4-48f1-b65f-b2bd7879db6b",
   "metadata": {},
   "outputs": [
    {
     "data": {
      "text/html": [
       "<pre style=\"white-space:pre;overflow-x:auto;line-height:normal;font-family:Menlo,'DejaVu Sans Mono',consolas,'Courier New',monospace\"><span style=\"color: #000080; text-decoration-color: #000080\">Extracting claims and sources...</span>\n",
       "</pre>\n"
      ],
      "text/plain": [
       "\u001b[34mExtracting claims and sources\u001b[0m\u001b[34m...\u001b[0m\n"
      ]
     },
     "metadata": {},
     "output_type": "display_data"
    },
    {
     "data": {
      "text/html": [
       "<pre style=\"white-space:pre;overflow-x:auto;line-height:normal;font-family:Menlo,'DejaVu Sans Mono',consolas,'Courier New',monospace\"><span style=\"color: #008000; text-decoration-color: #008000\">Extracted </span><span style=\"color: #008000; text-decoration-color: #008000; font-weight: bold\">5</span><span style=\"color: #008000; text-decoration-color: #008000\"> claims and </span><span style=\"color: #008000; text-decoration-color: #008000; font-weight: bold\">5</span><span style=\"color: #008000; text-decoration-color: #008000\"> sources</span>\n",
       "</pre>\n"
      ],
      "text/plain": [
       "\u001b[32mExtracted \u001b[0m\u001b[1;32m5\u001b[0m\u001b[32m claims and \u001b[0m\u001b[1;32m5\u001b[0m\u001b[32m sources\u001b[0m\n"
      ]
     },
     "metadata": {},
     "output_type": "display_data"
    },
    {
     "data": {
      "text/html": [
       "<pre style=\"white-space:pre;overflow-x:auto;line-height:normal;font-family:Menlo,'DejaVu Sans Mono',consolas,'Courier New',monospace\"><span style=\"color: #000080; text-decoration-color: #000080\">Fetching source content...</span>\n",
       "</pre>\n"
      ],
      "text/plain": [
       "\u001b[34mFetching source content\u001b[0m\u001b[34m...\u001b[0m\n"
      ]
     },
     "metadata": {},
     "output_type": "display_data"
    },
    {
     "data": {
      "text/html": [
       "<pre style=\"white-space:pre;overflow-x:auto;line-height:normal;font-family:Menlo,'DejaVu Sans Mono',consolas,'Courier New',monospace\">Fetching source <span style=\"color: #008080; text-decoration-color: #008080; font-weight: bold\">1</span>/<span style=\"color: #008080; text-decoration-color: #008080; font-weight: bold\">5</span>: <span style=\"color: #0000ff; text-decoration-color: #0000ff; text-decoration: underline\">https://en.wikipedia.org/wiki/Abraham_Lincoln</span>\n",
       "</pre>\n"
      ],
      "text/plain": [
       "Fetching source \u001b[1;36m1\u001b[0m/\u001b[1;36m5\u001b[0m: \u001b[4;94mhttps://en.wikipedia.org/wiki/Abraham_Lincoln\u001b[0m\n"
      ]
     },
     "metadata": {},
     "output_type": "display_data"
    },
    {
     "data": {
      "text/html": [
       "<pre style=\"white-space:pre;overflow-x:auto;line-height:normal;font-family:Menlo,'DejaVu Sans Mono',consolas,'Courier New',monospace\">Fetching source <span style=\"color: #008080; text-decoration-color: #008080; font-weight: bold\">2</span>/<span style=\"color: #008080; text-decoration-color: #008080; font-weight: bold\">5</span>: <span style=\"color: #0000ff; text-decoration-color: #0000ff; text-decoration: underline\">https://millercenter.org/president/lincoln/life-in-brief</span>\n",
       "</pre>\n"
      ],
      "text/plain": [
       "Fetching source \u001b[1;36m2\u001b[0m/\u001b[1;36m5\u001b[0m: \u001b[4;94mhttps://millercenter.org/president/lincoln/life-in-brief\u001b[0m\n"
      ]
     },
     "metadata": {},
     "output_type": "display_data"
    },
    {
     "data": {
      "text/html": [
       "<pre style=\"white-space:pre;overflow-x:auto;line-height:normal;font-family:Menlo,'DejaVu Sans Mono',consolas,'Courier New',monospace\">Fetching source <span style=\"color: #008080; text-decoration-color: #008080; font-weight: bold\">3</span>/<span style=\"color: #008080; text-decoration-color: #008080; font-weight: bold\">5</span>: <span style=\"color: #0000ff; text-decoration-color: #0000ff; text-decoration: underline\">https://en.wikipedia.org/wiki/Abraham_Lincoln</span>\n",
       "</pre>\n"
      ],
      "text/plain": [
       "Fetching source \u001b[1;36m3\u001b[0m/\u001b[1;36m5\u001b[0m: \u001b[4;94mhttps://en.wikipedia.org/wiki/Abraham_Lincoln\u001b[0m\n"
      ]
     },
     "metadata": {},
     "output_type": "display_data"
    },
    {
     "data": {
      "text/html": [
       "<pre style=\"white-space:pre;overflow-x:auto;line-height:normal;font-family:Menlo,'DejaVu Sans Mono',consolas,'Courier New',monospace\">Fetching source <span style=\"color: #008080; text-decoration-color: #008080; font-weight: bold\">4</span>/<span style=\"color: #008080; text-decoration-color: #008080; font-weight: bold\">5</span>: <span style=\"color: #0000ff; text-decoration-color: #0000ff; text-decoration: underline\">https://www.battlefields.org/learn/biographies/abraham-lincoln</span>\n",
       "</pre>\n"
      ],
      "text/plain": [
       "Fetching source \u001b[1;36m4\u001b[0m/\u001b[1;36m5\u001b[0m: \u001b[4;94mhttps://www.battlefields.org/learn/biographies/abraham-lincoln\u001b[0m\n"
      ]
     },
     "metadata": {},
     "output_type": "display_data"
    },
    {
     "data": {
      "text/html": [
       "<pre style=\"white-space:pre;overflow-x:auto;line-height:normal;font-family:Menlo,'DejaVu Sans Mono',consolas,'Courier New',monospace\">Fetching source <span style=\"color: #008080; text-decoration-color: #008080; font-weight: bold\">5</span>/<span style=\"color: #008080; text-decoration-color: #008080; font-weight: bold\">5</span>: <span style=\"color: #0000ff; text-decoration-color: #0000ff; text-decoration: underline\">https://kids.nationalgeographic.com/history/article/abraham-lincoln</span>\n",
       "</pre>\n"
      ],
      "text/plain": [
       "Fetching source \u001b[1;36m5\u001b[0m/\u001b[1;36m5\u001b[0m: \u001b[4;94mhttps://kids.nationalgeographic.com/history/article/abraham-lincoln\u001b[0m\n"
      ]
     },
     "metadata": {},
     "output_type": "display_data"
    },
    {
     "data": {
      "text/html": [
       "<pre style=\"white-space:pre;overflow-x:auto;line-height:normal;font-family:Menlo,'DejaVu Sans Mono',consolas,'Courier New',monospace\"><span style=\"color: #008000; text-decoration-color: #008000\">Finished fetching source content</span>\n",
       "</pre>\n"
      ],
      "text/plain": [
       "\u001b[32mFinished fetching source content\u001b[0m\n"
      ]
     },
     "metadata": {},
     "output_type": "display_data"
    },
    {
     "data": {
      "text/html": [
       "<pre style=\"white-space:pre;overflow-x:auto;line-height:normal;font-family:Menlo,'DejaVu Sans Mono',consolas,'Courier New',monospace\"><span style=\"color: #000080; text-decoration-color: #000080\">Validating claims...</span>\n",
       "</pre>\n"
      ],
      "text/plain": [
       "\u001b[34mValidating claims\u001b[0m\u001b[34m...\u001b[0m\n"
      ]
     },
     "metadata": {},
     "output_type": "display_data"
    },
    {
     "data": {
      "text/html": [
       "<pre style=\"white-space:pre;overflow-x:auto;line-height:normal;font-family:Menlo,'DejaVu Sans Mono',consolas,'Courier New',monospace\">Validating claim <span style=\"color: #008080; text-decoration-color: #008080; font-weight: bold\">1</span>/<span style=\"color: #008080; text-decoration-color: #008080; font-weight: bold\">5</span>: Abraham Lincoln was born on February <span style=\"color: #008080; text-decoration-color: #008080; font-weight: bold\">12</span>, <span style=\"color: #008080; text-decoration-color: #008080; font-weight: bold\">1809</span>, in <span style=\"color: #808000; text-decoration-color: #808000\">...</span>\n",
       "</pre>\n"
      ],
      "text/plain": [
       "Validating claim \u001b[1;36m1\u001b[0m/\u001b[1;36m5\u001b[0m: Abraham Lincoln was born on February \u001b[1;36m12\u001b[0m, \u001b[1;36m1809\u001b[0m, in \u001b[33m...\u001b[0m\n"
      ]
     },
     "metadata": {},
     "output_type": "display_data"
    },
    {
     "data": {
      "text/html": [
       "<pre style=\"white-space:pre;overflow-x:auto;line-height:normal;font-family:Menlo,'DejaVu Sans Mono',consolas,'Courier New',monospace\">Validating claim <span style=\"color: #008080; text-decoration-color: #008080; font-weight: bold\">2</span>/<span style=\"color: #008080; text-decoration-color: #008080; font-weight: bold\">5</span>: He was largely self-educated and worked as a lawye<span style=\"color: #808000; text-decoration-color: #808000\">...</span>\n",
       "</pre>\n"
      ],
      "text/plain": [
       "Validating claim \u001b[1;36m2\u001b[0m/\u001b[1;36m5\u001b[0m: He was largely self-educated and worked as a lawye\u001b[33m...\u001b[0m\n"
      ]
     },
     "metadata": {},
     "output_type": "display_data"
    },
    {
     "data": {
      "text/html": [
       "<pre style=\"white-space:pre;overflow-x:auto;line-height:normal;font-family:Menlo,'DejaVu Sans Mono',consolas,'Courier New',monospace\">Validating claim <span style=\"color: #008080; text-decoration-color: #008080; font-weight: bold\">3</span>/<span style=\"color: #008080; text-decoration-color: #008080; font-weight: bold\">5</span>: His election as the 16th President of the United S<span style=\"color: #808000; text-decoration-color: #808000\">...</span>\n",
       "</pre>\n"
      ],
      "text/plain": [
       "Validating claim \u001b[1;36m3\u001b[0m/\u001b[1;36m5\u001b[0m: His election as the 16th President of the United S\u001b[33m...\u001b[0m\n"
      ]
     },
     "metadata": {},
     "output_type": "display_data"
    },
    {
     "data": {
      "text/html": [
       "<pre style=\"white-space:pre;overflow-x:auto;line-height:normal;font-family:Menlo,'DejaVu Sans Mono',consolas,'Courier New',monospace\">Validating claim <span style=\"color: #008080; text-decoration-color: #008080; font-weight: bold\">4</span>/<span style=\"color: #008080; text-decoration-color: #008080; font-weight: bold\">5</span>: In <span style=\"color: #008080; text-decoration-color: #008080; font-weight: bold\">1863</span>, he issued the Emancipation Proclamation, <span style=\"color: #808000; text-decoration-color: #808000\">...</span>\n",
       "</pre>\n"
      ],
      "text/plain": [
       "Validating claim \u001b[1;36m4\u001b[0m/\u001b[1;36m5\u001b[0m: In \u001b[1;36m1863\u001b[0m, he issued the Emancipation Proclamation, \u001b[33m...\u001b[0m\n"
      ]
     },
     "metadata": {},
     "output_type": "display_data"
    },
    {
     "data": {
      "text/html": [
       "<pre style=\"white-space:pre;overflow-x:auto;line-height:normal;font-family:Menlo,'DejaVu Sans Mono',consolas,'Courier New',monospace\">Validating claim <span style=\"color: #008080; text-decoration-color: #008080; font-weight: bold\">5</span>/<span style=\"color: #008080; text-decoration-color: #008080; font-weight: bold\">5</span>: His leadership during the Civil War and his moral <span style=\"color: #808000; text-decoration-color: #808000\">...</span>\n",
       "</pre>\n"
      ],
      "text/plain": [
       "Validating claim \u001b[1;36m5\u001b[0m/\u001b[1;36m5\u001b[0m: His leadership during the Civil War and his moral \u001b[33m...\u001b[0m\n"
      ]
     },
     "metadata": {},
     "output_type": "display_data"
    },
    {
     "data": {
      "text/html": [
       "<pre style=\"white-space:pre;overflow-x:auto;line-height:normal;font-family:Menlo,'DejaVu Sans Mono',consolas,'Courier New',monospace\"><span style=\"color: #008000; text-decoration-color: #008000\">Validated </span><span style=\"color: #008000; text-decoration-color: #008000; font-weight: bold\">5</span><span style=\"color: #008000; text-decoration-color: #008000\"> claims</span>\n",
       "</pre>\n"
      ],
      "text/plain": [
       "\u001b[32mValidated \u001b[0m\u001b[1;32m5\u001b[0m\u001b[32m claims\u001b[0m\n"
      ]
     },
     "metadata": {},
     "output_type": "display_data"
    }
   ],
   "source": [
    "# Run the validation pipeline\n",
    "trust_report, validation_results, extracted = validate_report(sample_report)"
   ]
  },
  {
   "cell_type": "code",
   "execution_count": 17,
   "id": "1fb8015a-2636-4c40-af57-1af033f5f50f",
   "metadata": {},
   "outputs": [
    {
     "data": {
      "text/plain": [
       "[Claim(id='claim-098920da-0', statement='Abraham Lincoln was born on February 12, 1809, in a log cabin in Kentucky.', verification_question='Can it be verified that Abraham Lincoln was born on February 12, 1809, in a log cabin in Kentucky?', source_urls=['https://en.wikipedia.org/wiki/Abraham_Lincoln', 'https://millercenter.org/president/lincoln/life-in-brief'], source_ids=['source-098920da-2', 'source-098920da-1']),\n",
       " Claim(id='claim-098920da-1', statement='He was largely self-educated and worked as a lawyer before entering politics in Illinois.', verification_question='Is it verifiable that Abraham Lincoln was largely self-educated and worked as a lawyer before entering politics in Illinois?', source_urls=['https://en.wikipedia.org/wiki/Abraham_Lincoln', 'https://millercenter.org/president/lincoln/life-in-brief'], source_ids=['source-098920da-2', 'source-098920da-1']),\n",
       " Claim(id='claim-098920da-2', statement='His election as the 16th President of the United States in 1860 led to the secession of Southern states and the start of the Civil War.', verification_question=\"Can it be verified that Abraham Lincoln's 1860 election as the 16th President directly led to the secession of Southern states and the onset of the Civil War?\", source_urls=['https://en.wikipedia.org/wiki/Abraham_Lincoln', 'https://millercenter.org/president/lincoln/life-in-brief'], source_ids=['source-098920da-2', 'source-098920da-1']),\n",
       " Claim(id='claim-098920da-3', statement='In 1863, he issued the Emancipation Proclamation, declaring freedom for enslaved people in Confederate-held territories and reframing the war around the abolition of slavery.', verification_question='Is it verifiable that in 1863, Abraham Lincoln issued the Emancipation Proclamation which declared freedom for enslaved people in Confederate-held territories and reframed the Civil War as a fight against slavery?', source_urls=['https://millercenter.org/president/lincoln/life-in-brief', 'https://www.battlefields.org/learn/biographies/abraham-lincoln'], source_ids=['source-098920da-1', 'source-098920da-3']),\n",
       " Claim(id='claim-098920da-4', statement='His leadership during the Civil War and his moral vision for the nation cemented his legacy as one of America’s greatest presidents.', verification_question=\"Can it be verified that Abraham Lincoln's leadership during the Civil War and his moral vision for the nation have established him as one of America’s greatest presidents?\", source_urls=['https://millercenter.org/president/lincoln/life-in-brief', 'https://en.wikipedia.org/wiki/Abraham_Lincoln', 'https://kids.nationalgeographic.com/history/article/abraham-lincoln'], source_ids=['source-098920da-1', 'source-098920da-2', 'source-098920da-4'])]"
      ]
     },
     "execution_count": 17,
     "metadata": {},
     "output_type": "execute_result"
    }
   ],
   "source": [
    "extracted.claims"
   ]
  },
  {
   "cell_type": "code",
   "execution_count": 25,
   "id": "a0087e72-c7c2-477f-b9c7-1bbbde3f5b42",
   "metadata": {},
   "outputs": [
    {
     "data": {
      "text/html": [
       "<pre style=\"white-space:pre;overflow-x:auto;line-height:normal;font-family:Menlo,'DejaVu Sans Mono',consolas,'Courier New',monospace\"><span style=\"color: #000080; text-decoration-color: #000080\">╭─ Truth Layer Report: ba303566 ─╮</span>\n",
       "<span style=\"color: #000080; text-decoration-color: #000080\">│</span> <span style=\"font-weight: bold\">Trust Score:</span> 100.0/100         <span style=\"color: #000080; text-decoration-color: #000080\">│</span>\n",
       "<span style=\"color: #000080; text-decoration-color: #000080\">│</span> <span style=\"font-weight: bold\">Claims Analyzed:</span> 5             <span style=\"color: #000080; text-decoration-color: #000080\">│</span>\n",
       "<span style=\"color: #000080; text-decoration-color: #000080\">│</span> <span style=\"font-weight: bold\">Supported:</span> 5 (100.0%)          <span style=\"color: #000080; text-decoration-color: #000080\">│</span>\n",
       "<span style=\"color: #000080; text-decoration-color: #000080\">│</span> <span style=\"font-weight: bold\">Partially Supported:</span> 0 (0.0%)  <span style=\"color: #000080; text-decoration-color: #000080\">│</span>\n",
       "<span style=\"color: #000080; text-decoration-color: #000080\">│</span> <span style=\"font-weight: bold\">Contradicted:</span> 0 (0.0%)         <span style=\"color: #000080; text-decoration-color: #000080\">│</span>\n",
       "<span style=\"color: #000080; text-decoration-color: #000080\">│</span> <span style=\"font-weight: bold\">Unverifiable:</span> 0 (0.0%)         <span style=\"color: #000080; text-decoration-color: #000080\">│</span>\n",
       "<span style=\"color: #000080; text-decoration-color: #000080\">│</span> <span style=\"font-weight: bold\">Source Contradictions:</span> No      <span style=\"color: #000080; text-decoration-color: #000080\">│</span>\n",
       "<span style=\"color: #000080; text-decoration-color: #000080\">╰────────────────────────────────╯</span>\n",
       "</pre>\n"
      ],
      "text/plain": [
       "\u001b[34m╭─\u001b[0m\u001b[34m Truth Layer Report: ba303566 \u001b[0m\u001b[34m─╮\u001b[0m\n",
       "\u001b[34m│\u001b[0m \u001b[1mTrust Score:\u001b[0m 100.0/100         \u001b[34m│\u001b[0m\n",
       "\u001b[34m│\u001b[0m \u001b[1mClaims Analyzed:\u001b[0m 5             \u001b[34m│\u001b[0m\n",
       "\u001b[34m│\u001b[0m \u001b[1mSupported:\u001b[0m 5 (100.0%)          \u001b[34m│\u001b[0m\n",
       "\u001b[34m│\u001b[0m \u001b[1mPartially Supported:\u001b[0m 0 (0.0%)  \u001b[34m│\u001b[0m\n",
       "\u001b[34m│\u001b[0m \u001b[1mContradicted:\u001b[0m 0 (0.0%)         \u001b[34m│\u001b[0m\n",
       "\u001b[34m│\u001b[0m \u001b[1mUnverifiable:\u001b[0m 0 (0.0%)         \u001b[34m│\u001b[0m\n",
       "\u001b[34m│\u001b[0m \u001b[1mSource Contradictions:\u001b[0m No      \u001b[34m│\u001b[0m\n",
       "\u001b[34m╰────────────────────────────────╯\u001b[0m\n"
      ]
     },
     "metadata": {},
     "output_type": "display_data"
    },
    {
     "data": {
      "image/png": "[encoded data removed]",
      "text/plain": [
       "<Figure size 1000x600 with 1 Axes>"
      ]
     },
     "metadata": {},
     "output_type": "display_data"
    },
    {
     "data": {
      "image/png": "[encoded data removed]",
      "text/plain": [
       "<Figure size 1000x800 with 1 Axes>"
      ]
     },
     "metadata": {},
     "output_type": "display_data"
    },
    {
     "data": {
      "image/png": "[encoded data removed]",
      "text/plain": [
       "<Figure size 1200x600 with 1 Axes>"
      ]
     },
     "metadata": {},
     "output_type": "display_data"
    },
    {
     "data": {
      "text/html": [
       "<div>\n",
       "<style scoped>\n",
       "    .dataframe tbody tr th:only-of-type {\n",
       "        vertical-align: middle;\n",
       "    }\n",
       "\n",
       "    .dataframe tbody tr th {\n",
       "        vertical-align: top;\n",
       "    }\n",
       "\n",
       "    .dataframe thead th {\n",
       "        text-align: right;\n",
       "    }\n",
       "</style>\n",
       "<table border=\"1\" class=\"dataframe\">\n",
       "  <thead>\n",
       "    <tr style=\"text-align: right;\">\n",
       "      <th></th>\n",
       "      <th>Claim</th>\n",
       "      <th>Status</th>\n",
       "      <th>Confidence</th>\n",
       "      <th>Source Count</th>\n",
       "      <th>Contradictions</th>\n",
       "    </tr>\n",
       "  </thead>\n",
       "  <tbody>\n",
       "    <tr>\n",
       "      <th>0</th>\n",
       "      <td>Abraham Lincoln was born on February 12, 1809,...</td>\n",
       "      <td>SUPPORTED</td>\n",
       "      <td>1.0</td>\n",
       "      <td>2</td>\n",
       "      <td>No</td>\n",
       "    </tr>\n",
       "    <tr>\n",
       "      <th>1</th>\n",
       "      <td>He was largely self-educated and worked as a l...</td>\n",
       "      <td>SUPPORTED</td>\n",
       "      <td>1.0</td>\n",
       "      <td>2</td>\n",
       "      <td>No</td>\n",
       "    </tr>\n",
       "    <tr>\n",
       "      <th>2</th>\n",
       "      <td>His election as the 16th President of the Unit...</td>\n",
       "      <td>SUPPORTED</td>\n",
       "      <td>1.0</td>\n",
       "      <td>2</td>\n",
       "      <td>No</td>\n",
       "    </tr>\n",
       "    <tr>\n",
       "      <th>3</th>\n",
       "      <td>In 1863, he issued the Emancipation Proclamati...</td>\n",
       "      <td>SUPPORTED</td>\n",
       "      <td>1.0</td>\n",
       "      <td>2</td>\n",
       "      <td>No</td>\n",
       "    </tr>\n",
       "    <tr>\n",
       "      <th>4</th>\n",
       "      <td>His leadership during the Civil War and his mo...</td>\n",
       "      <td>SUPPORTED</td>\n",
       "      <td>1.0</td>\n",
       "      <td>3</td>\n",
       "      <td>No</td>\n",
       "    </tr>\n",
       "  </tbody>\n",
       "</table>\n",
       "</div>"
      ],
      "text/plain": [
       "                                               Claim     Status  Confidence  \\\n",
       "0  Abraham Lincoln was born on February 12, 1809,...  SUPPORTED         1.0   \n",
       "1  He was largely self-educated and worked as a l...  SUPPORTED         1.0   \n",
       "2  His election as the 16th President of the Unit...  SUPPORTED         1.0   \n",
       "3  In 1863, he issued the Emancipation Proclamati...  SUPPORTED         1.0   \n",
       "4  His leadership during the Civil War and his mo...  SUPPORTED         1.0   \n",
       "\n",
       "   Source Count Contradictions  \n",
       "0             2             No  \n",
       "1             2             No  \n",
       "2             2             No  \n",
       "3             2             No  \n",
       "4             3             No  "
      ]
     },
     "execution_count": 25,
     "metadata": {},
     "output_type": "execute_result"
    }
   ],
   "source": [
    "# Display results with visualizations\n",
    "results_df = display_validation_results(trust_report, validation_results, extracted)\n",
    "results_df"
   ]
  },
  {
   "cell_type": "markdown",
   "id": "1542468b-965a-497c-9c9d-8ef914ad47df",
   "metadata": {},
   "source": [
    "### 8. Detailed Analysis of a Specific Claim\n",
    "Let's examine one of the claims in detail to better understand the validation process.\n"
   ]
  },
  {
   "cell_type": "code",
   "execution_count": 19,
   "id": "cf80b80b-6d21-4f43-8eb4-2db3924387bc",
   "metadata": {},
   "outputs": [
    {
     "data": {
      "text/html": [
       "<pre style=\"white-space:pre;overflow-x:auto;line-height:normal;font-family:Menlo,'DejaVu Sans Mono',consolas,'Courier New',monospace\"><span style=\"color: #000080; text-decoration-color: #000080\">╭─────────────────────────────────────── Claim Analysis: claim-098920da-0 ────────────────────────────────────────╮</span>\n",
       "<span style=\"color: #000080; text-decoration-color: #000080\">│</span> <span style=\"font-weight: bold\">Original Statement:</span>                                                                                             <span style=\"color: #000080; text-decoration-color: #000080\">│</span>\n",
       "<span style=\"color: #000080; text-decoration-color: #000080\">│</span> Abraham Lincoln was born on February 12, 1809, in a log cabin in Kentucky.                                      <span style=\"color: #000080; text-decoration-color: #000080\">│</span>\n",
       "<span style=\"color: #000080; text-decoration-color: #000080\">│</span>                                                                                                                 <span style=\"color: #000080; text-decoration-color: #000080\">│</span>\n",
       "<span style=\"color: #000080; text-decoration-color: #000080\">│</span> <span style=\"font-weight: bold\">Verification Question:</span>                                                                                          <span style=\"color: #000080; text-decoration-color: #000080\">│</span>\n",
       "<span style=\"color: #000080; text-decoration-color: #000080\">│</span> Can it be verified that Abraham Lincoln was born on February 12, 1809, in a log cabin in Kentucky?              <span style=\"color: #000080; text-decoration-color: #000080\">│</span>\n",
       "<span style=\"color: #000080; text-decoration-color: #000080\">│</span>                                                                                                                 <span style=\"color: #000080; text-decoration-color: #000080\">│</span>\n",
       "<span style=\"color: #000080; text-decoration-color: #000080\">│</span> <span style=\"font-weight: bold\">Sources:</span>                                                                                                        <span style=\"color: #000080; text-decoration-color: #000080\">│</span>\n",
       "<span style=\"color: #000080; text-decoration-color: #000080\">│</span> - https://en.wikipedia.org/wiki/Abraham_Lincoln                                                                 <span style=\"color: #000080; text-decoration-color: #000080\">│</span>\n",
       "<span style=\"color: #000080; text-decoration-color: #000080\">│</span> - https://millercenter.org/president/lincoln/life-in-brief                                                      <span style=\"color: #000080; text-decoration-color: #000080\">│</span>\n",
       "<span style=\"color: #000080; text-decoration-color: #000080\">│</span>                                                                                                                 <span style=\"color: #000080; text-decoration-color: #000080\">│</span>\n",
       "<span style=\"color: #000080; text-decoration-color: #000080\">│</span> <span style=\"font-weight: bold\">Status:</span> SUPPORTED                                                                                               <span style=\"color: #000080; text-decoration-color: #000080\">│</span>\n",
       "<span style=\"color: #000080; text-decoration-color: #000080\">│</span> <span style=\"font-weight: bold\">Confidence:</span> 1.00                                                                                                <span style=\"color: #000080; text-decoration-color: #000080\">│</span>\n",
       "<span style=\"color: #000080; text-decoration-color: #000080\">│</span> <span style=\"font-weight: bold\">Has Contradictions:</span> No                                                                                          <span style=\"color: #000080; text-decoration-color: #000080\">│</span>\n",
       "<span style=\"color: #000080; text-decoration-color: #000080\">│</span>                                                                                                                 <span style=\"color: #000080; text-decoration-color: #000080\">│</span>\n",
       "<span style=\"color: #000080; text-decoration-color: #000080\">│</span> <span style=\"font-weight: bold\">Reasoning:</span>                                                                                                      <span style=\"color: #000080; text-decoration-color: #000080\">│</span>\n",
       "<span style=\"color: #000080; text-decoration-color: #000080\">│</span> The claim is explicitly supported by the widely accepted historical details about Abraham Lincoln as presented  <span style=\"color: #000080; text-decoration-color: #000080\">│</span>\n",
       "<span style=\"color: #000080; text-decoration-color: #000080\">│</span> in the provided sources, notably his biography on Wikipedia and related historical texts. These sources         <span style=\"color: #000080; text-decoration-color: #000080\">│</span>\n",
       "<span style=\"color: #000080; text-decoration-color: #000080\">│</span> consistently state that he was born on February 12, 1809, in a log cabin in Kentucky. Therefore, the claim is   <span style=\"color: #000080; text-decoration-color: #000080\">│</span>\n",
       "<span style=\"color: #000080; text-decoration-color: #000080\">│</span> directly supported by the provided sources.                                                                     <span style=\"color: #000080; text-decoration-color: #000080\">│</span>\n",
       "<span style=\"color: #000080; text-decoration-color: #000080\">╰─────────────────────────────────────────────────────────────────────────────────────────────────────────────────╯</span>\n",
       "</pre>\n"
      ],
      "text/plain": [
       "\u001b[34m╭─\u001b[0m\u001b[34m──────────────────────────────────────\u001b[0m\u001b[34m Claim Analysis: claim-098920da-0 \u001b[0m\u001b[34m───────────────────────────────────────\u001b[0m\u001b[34m─╮\u001b[0m\n",
       "\u001b[34m│\u001b[0m \u001b[1mOriginal Statement:\u001b[0m                                                                                             \u001b[34m│\u001b[0m\n",
       "\u001b[34m│\u001b[0m Abraham Lincoln was born on February 12, 1809, in a log cabin in Kentucky.                                      \u001b[34m│\u001b[0m\n",
       "\u001b[34m│\u001b[0m                                                                                                                 \u001b[34m│\u001b[0m\n",
       "\u001b[34m│\u001b[0m \u001b[1mVerification Question:\u001b[0m                                                                                          \u001b[34m│\u001b[0m\n",
       "\u001b[34m│\u001b[0m Can it be verified that Abraham Lincoln was born on February 12, 1809, in a log cabin in Kentucky?              \u001b[34m│\u001b[0m\n",
       "\u001b[34m│\u001b[0m                                                                                                                 \u001b[34m│\u001b[0m\n",
       "\u001b[34m│\u001b[0m \u001b[1mSources:\u001b[0m                                                                                                        \u001b[34m│\u001b[0m\n",
       "\u001b[34m│\u001b[0m - https://en.wikipedia.org/wiki/Abraham_Lincoln                                                                 \u001b[34m│\u001b[0m\n",
       "\u001b[34m│\u001b[0m - https://millercenter.org/president/lincoln/life-in-brief                                                      \u001b[34m│\u001b[0m\n",
       "\u001b[34m│\u001b[0m                                                                                                                 \u001b[34m│\u001b[0m\n",
       "\u001b[34m│\u001b[0m \u001b[1mStatus:\u001b[0m SUPPORTED                                                                                               \u001b[34m│\u001b[0m\n",
       "\u001b[34m│\u001b[0m \u001b[1mConfidence:\u001b[0m 1.00                                                                                                \u001b[34m│\u001b[0m\n",
       "\u001b[34m│\u001b[0m \u001b[1mHas Contradictions:\u001b[0m No                                                                                          \u001b[34m│\u001b[0m\n",
       "\u001b[34m│\u001b[0m                                                                                                                 \u001b[34m│\u001b[0m\n",
       "\u001b[34m│\u001b[0m \u001b[1mReasoning:\u001b[0m                                                                                                      \u001b[34m│\u001b[0m\n",
       "\u001b[34m│\u001b[0m The claim is explicitly supported by the widely accepted historical details about Abraham Lincoln as presented  \u001b[34m│\u001b[0m\n",
       "\u001b[34m│\u001b[0m in the provided sources, notably his biography on Wikipedia and related historical texts. These sources         \u001b[34m│\u001b[0m\n",
       "\u001b[34m│\u001b[0m consistently state that he was born on February 12, 1809, in a log cabin in Kentucky. Therefore, the claim is   \u001b[34m│\u001b[0m\n",
       "\u001b[34m│\u001b[0m directly supported by the provided sources.                                                                     \u001b[34m│\u001b[0m\n",
       "\u001b[34m╰─────────────────────────────────────────────────────────────────────────────────────────────────────────────────╯\u001b[0m\n"
      ]
     },
     "metadata": {},
     "output_type": "display_data"
    }
   ],
   "source": [
    "def analyze_claim_details(\n",
    "    claim_id: str,\n",
    "    validation_results: list[ValidationResult],\n",
    "    extracted: ExtractedReport,\n",
    "):\n",
    "    \"\"\"Display detailed analysis for a specific claim\"\"\"\n",
    "    # Find the validation result\n",
    "    result = next((r for r in validation_results if r.claim_id == claim_id), None)\n",
    "    if not result:\n",
    "        print(f\"Claim {claim_id} not found in validation results\")\n",
    "        return\n",
    "\n",
    "    # Find the original claim\n",
    "    claim = next((c for c in extracted.claims if c.id == claim_id), None)\n",
    "    if not claim:\n",
    "        print(f\"Claim {claim_id} not found in extracted claims\")\n",
    "        return\n",
    "\n",
    "    # Print claim details\n",
    "    console.print(\n",
    "        Panel.fit(\n",
    "            f\"[bold]Original Statement:[/bold]\\n{result.statement}\\n\\n\"\n",
    "            f\"[bold]Verification Question:[/bold]\\n{result.verification_question}\\n\\n\"\n",
    "            f\"[bold]Sources:[/bold]\\n\"\n",
    "            + \"\\n\".join([f\"- {url}\" for url in claim.source_urls])\n",
    "            + \"\\n\\n\"\n",
    "            f\"[bold]Status:[/bold] {result.status}\\n\"\n",
    "            f\"[bold]Confidence:[/bold] {result.confidence:.2f}\\n\"\n",
    "            f\"[bold]Has Contradictions:[/bold] {'Yes' if result.has_contradictions else 'No'}\\n\\n\"\n",
    "            f\"[bold]Reasoning:[/bold]\\n{result.reasoning}\",\n",
    "            title=f\"Claim Analysis: {claim_id}\",\n",
    "            border_style=\"blue\",\n",
    "        )\n",
    "    )\n",
    "\n",
    "\n",
    "# %%\n",
    "# Find an interesting claim to analyze (e.g., one with sources or contradictions)\n",
    "if validation_results:\n",
    "    # Find a claim that's not UNVERIFIABLE\n",
    "    verified_claims = [r for r in validation_results if r.status != \"UNVERIFIABLE\"]\n",
    "    if verified_claims:\n",
    "        analyze_claim_details(\n",
    "            verified_claims[0].claim_id, validation_results, extracted\n",
    "        )\n",
    "    else:\n",
    "        analyze_claim_details(\n",
    "            validation_results[0].claim_id, validation_results, extracted\n",
    "        )"
   ]
  },
  {
   "cell_type": "markdown",
   "id": "f8857a0a-d0cf-4e71-ac45-caa0b3645c2a",
   "metadata": {},
   "source": [
    "### 9. Conclusion\n",
    "\n",
    "This has culminated into streamlined system for validating AI-generated research:\n",
    " \n",
    "1. **Direct URL References**: Claims are linked directly to their source URLs, avoiding citation parsing complexity\n",
    "2. **Single-Call Validation**: Each claim is validated against all its sources in a single LLM call\n",
    "3. **Rich Visualizations**: Results are presented with clear, informative charts\n",
    "4. **Contradiction Detection**: The system identifies when sources contradict each other or the claim\n",
    " \n",
    "This Truth Layer provides a powerful foundation for assessing the trustworthiness of AI-generated research, addressing the critical gap between convenience and confidence."
   ]
  },
  {
   "cell_type": "code",
   "execution_count": null,
   "id": "61f0576a-9ac3-4ac1-ba4d-00675bb25413",
   "metadata": {},
   "outputs": [],
   "source": []
  }
 ],
 "metadata": {
  "kernelspec": {
   "display_name": "Python 3 (ipykernel)",
   "language": "python",
   "name": "python3"
  },
  "language_info": {
   "codemirror_mode": {
    "name": "ipython",
    "version": 3
   },
   "file_extension": ".py",
   "mimetype": "text/x-python",
   "name": "python",
   "nbconvert_exporter": "python",
   "pygments_lexer": "ipython3",
   "version": "3.13.1"
  }
 },
 "nbformat": 4,
 "nbformat_minor": 5
}
